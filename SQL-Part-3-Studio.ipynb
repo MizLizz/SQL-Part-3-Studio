{
    "metadata": {
        "kernelspec": {
            "name": "SQL",
            "display_name": "SQL",
            "language": "sql"
        },
        "language_info": {
            "name": "sql",
            "version": ""
        },
        "extensions": {
            "azuredatastudio": {
                "version": 1,
                "views": []
            }
        }
    },
    "nbformat_minor": 2,
    "nbformat": 4,
    "cells": [
        {
            "cell_type": "markdown",
            "source": [
                "# SQL Part 3 Studio\n",
                "\n",
                "### Let's practice your SQL quering skills!  For each question, work along in the notebook adding your query and answering the questions. \n",
                "\n",
                "### **DataSet**\n",
                "\n",
                "### <span style=\"font-size: 14px; font-family: -apple-system, BlinkMacSystemFont, sans-serif;\">We will be using the Goodbooks-10k dataset from the exercises in the prep work.&nbsp; Feel free reference your previous notebooks.</span>\n",
                "\n",
                "- The dataset can be found here: [goodbooks-10k](https://www.kaggle.com/zygmunt/goodbooks-10k)\n",
                "- You can access the **BooksDB** in the Launchcode server.\n",
                "\n",
                "### **Business Issue**\n",
                "\n",
                "You are an employee at a small independet bookstore and you have been tasked to increase sales.  You decide to use the BooksDB to find books and themes to highlight in fun promotions throughout each month / season.  We will be starting with March and then you will have a chance to explore another month of your choosing.  We want to come up with a list of events/ promotions to run each month.  If you are looking for ideas to include in your promotions:\n",
                "\n",
                "- [https://www.calendarr.com/united-states/calendar-2022/](https://www.calendarr.com/united-states/calendar-2022/)\n",
                "- [https://www.holidayinsights.com/moreholidays/](https://www.holidayinsights.com/moreholidays/)\n",
                "    - Click on a month and it will take you to a more detailed page"
            ],
            "metadata": {
                "azdata_cell_guid": "b9034d8a-b631-48bf-a895-1012a6ffa784"
            },
            "attachments": {}
        },
        {
            "cell_type": "markdown",
            "source": [
                "## Part 1:  March - Women's History Month, Dr Seuss Day(3/2), National Pie Day3/14, St Patrick's Day (3/17), Season - Spring"
            ],
            "metadata": {
                "azdata_cell_guid": "6e55eb1c-4a14-4076-90d2-95ed17a6309f"
            },
            "attachments": {}
        },
        {
            "cell_type": "markdown",
            "source": [
                "### **Event 1:** Women's History Month\n",
                "\n",
                "Goal: Highlight Popular Womans Authors based on ratings from the Good Reads DB.\n",
                "\n",
                "### **Write a query that returns tag\\_id, the number of times each tag\\_id is used and the tag\\_name.**  \n",
                "\n",
                "### Use the GROUP BY and HAVING clause to narrow your focus.\n",
                "\n",
                "Try multiple keywords, ie woman vs female (female ended up giving better results)"
            ],
            "metadata": {
                "azdata_cell_guid": "d220c097-e9cf-4edd-9abe-312d071217b7"
            },
            "attachments": {}
        },
        {
            "cell_type": "code",
            "source": [
                "-- Solution\n",
                "-- SELECT tag_id, tag_name \n",
                "-- FROM BooksDB.dbo.tags\n",
                "-- WHERE tag_name LIKE 'female' OR tag_name LIKE 'woman'\n",
                "-- GROUP BY tag_id\n",
                "SELECT COUNT(bt.tag_id) AS total, t.tag_name, t.tag_id\n",
                "FROM BooksDB.dbo.book_tags AS bt \n",
                "LEFT JOIN BooksDB.dbo.tags AS t\n",
                "ON bt.tag_id = t.tag_id\n",
                "WHERE t.tag_name LIKE '%female%'\n",
                "OR t.tag_name LIKE '%woman%'\n",
                "OR t.tag_name LIKE '%girl%'\n",
                "OR t.tag_name = 'gal'\n",
                "GROUP BY t.tag_name, t.tag_id\n",
                "ORDER BY total DESC\n",
                "\n",
                "-- SELECT tag_id, tag_name\n",
                "-- FROM BooksDB.dbo.tags\n",
                "-- WHERE tag_name LIKE '%woman%'\n",
                "\n",
                "-- SELECT tag_id, tag_name\n",
                "-- FROM BooksDB.dbo.tags\n",
                "-- WHERE tag_name LIKE '%gal%'\n",
                "\n",
                "\n",
                "\n",
                "\n",
                ""
            ],
            "metadata": {
                "azdata_cell_guid": "e31b9d26-0386-44c7-828e-85f4f06f3ee6",
                "language": "sql"
            },
            "outputs": [
                {
                    "output_type": "display_data",
                    "data": {
                        "text/html": "(150 rows affected)"
                    },
                    "metadata": {}
                },
                {
                    "output_type": "display_data",
                    "data": {
                        "text/html": "Total execution time: 00:00:00.366"
                    },
                    "metadata": {}
                },
                {
                    "output_type": "execute_result",
                    "metadata": {},
                    "execution_count": 36,
                    "data": {
                        "application/vnd.dataresource+json": {
                            "schema": {
                                "fields": [
                                    {
                                        "name": "total"
                                    },
                                    {
                                        "name": "tag_name"
                                    },
                                    {
                                        "name": "tag_id"
                                    }
                                ]
                            },
                            "data": [
                                {
                                    "0": "997",
                                    "1": "female-author",
                                    "2": "11643"
                                },
                                {
                                    "0": "721",
                                    "1": "female-authors",
                                    "2": "11644"
                                },
                                {
                                    "0": "178",
                                    "1": "gilmore-girls",
                                    "2": "13207"
                                },
                                {
                                    "0": "171",
                                    "1": "female-protagonist",
                                    "2": "11658"
                                },
                                {
                                    "0": "143",
                                    "1": "girly",
                                    "2": "13240"
                                },
                                {
                                    "0": "116",
                                    "1": "gilmore-girls-reading-list",
                                    "2": "13214"
                                },
                                {
                                    "0": "102",
                                    "1": "girl-power",
                                    "2": "13227"
                                },
                                {
                                    "0": "79",
                                    "1": "gilmore-girls-reading-challenge",
                                    "2": "13213"
                                },
                                {
                                    "0": "65",
                                    "1": "girly-books",
                                    "2": "13242"
                                },
                                {
                                    "0": "62",
                                    "1": "girls",
                                    "2": "13235"
                                },
                                {
                                    "0": "35",
                                    "1": "gilmore-girls-challenge",
                                    "2": "13211"
                                },
                                {
                                    "0": "35",
                                    "1": "gilmore-girls-book-list",
                                    "2": "13209"
                                },
                                {
                                    "0": "32",
                                    "1": "female-detective",
                                    "2": "11646"
                                },
                                {
                                    "0": "30",
                                    "1": "gilmore-girls-list",
                                    "2": "13212"
                                },
                                {
                                    "0": "20",
                                    "1": "gilmore-girls-books",
                                    "2": "13210"
                                },
                                {
                                    "0": "18",
                                    "1": "female-writers",
                                    "2": "11662"
                                },
                                {
                                    "0": "17",
                                    "1": "female-pov",
                                    "2": "11656"
                                },
                                {
                                    "0": "17",
                                    "1": "female",
                                    "2": "11642"
                                },
                                {
                                    "0": "14",
                                    "1": "female-lead",
                                    "2": "11652"
                                },
                                {
                                    "0": "14",
                                    "1": "woman-s-murder-club",
                                    "2": "32681"
                                },
                                {
                                    "0": "12",
                                    "1": "author-female",
                                    "2": "3514"
                                },
                                {
                                    "0": "10",
                                    "1": "womanhood",
                                    "2": "32683"
                                },
                                {
                                    "0": "10",
                                    "1": "strong-female-lead",
                                    "2": "28834"
                                },
                                {
                                    "0": "9",
                                    "1": "female-detectives",
                                    "2": "11647"
                                },
                                {
                                    "0": "8",
                                    "1": "magical-girl",
                                    "2": "18916"
                                },
                                {
                                    "0": "8",
                                    "1": "man-woman",
                                    "2": "19038"
                                },
                                {
                                    "0": "8",
                                    "1": "mean-girls",
                                    "2": "19610"
                                },
                                {
                                    "0": "8",
                                    "1": "womans-murder-club",
                                    "2": "32685"
                                },
                                {
                                    "0": "6",
                                    "1": "gallagher-girls",
                                    "2": "12791"
                                },
                                {
                                    "0": "6",
                                    "1": "gossip-girl",
                                    "2": "13438"
                                },
                                {
                                    "0": "6",
                                    "1": "girlie",
                                    "2": "13232"
                                },
                                {
                                    "0": "6",
                                    "1": "biblical-womanhood",
                                    "2": "4455"
                                },
                                {
                                    "0": "6",
                                    "1": "books-from-gilmore-girls",
                                    "2": "5160"
                                },
                                {
                                    "0": "5",
                                    "1": "gallagher-girls-series",
                                    "2": "12792"
                                },
                                {
                                    "0": "5",
                                    "1": "older-man-younger-woman",
                                    "2": "22269"
                                },
                                {
                                    "0": "5",
                                    "1": "gossip-girl-series",
                                    "2": "13439"
                                },
                                {
                                    "0": "4",
                                    "1": "female-friendship",
                                    "2": "11650"
                                },
                                {
                                    "0": "4",
                                    "1": "strong-female",
                                    "2": "28830"
                                },
                                {
                                    "0": "4",
                                    "1": "wonder-woman",
                                    "2": "32740"
                                },
                                {
                                    "0": "4",
                                    "1": "older-woman-younger-man",
                                    "2": "22271"
                                },
                                {
                                    "0": "3",
                                    "1": "for-the-girls",
                                    "2": "12321"
                                },
                                {
                                    "0": "3",
                                    "1": "magical-girls",
                                    "2": "18917"
                                },
                                {
                                    "0": "3",
                                    "1": "strong-female-characters",
                                    "2": "28833"
                                },
                                {
                                    "0": "3",
                                    "1": "series-gossip-girl",
                                    "2": "27244"
                                },
                                {
                                    "0": "2",
                                    "1": "girlhood",
                                    "2": "13231"
                                },
                                {
                                    "0": "2",
                                    "1": "strong-girls",
                                    "2": "28837"
                                },
                                {
                                    "0": "2",
                                    "1": "all-american-girl",
                                    "2": "2069"
                                },
                                {
                                    "0": "2",
                                    "1": "girlboss",
                                    "2": "13230"
                                },
                                {
                                    "0": "2",
                                    "1": "girls-who-gab",
                                    "2": "13239"
                                },
                                {
                                    "0": "2",
                                    "1": "stargirl",
                                    "2": "28572"
                                },
                                {
                                    "0": "2",
                                    "1": "girls-books",
                                    "2": "13236"
                                },
                                {
                                    "0": "2",
                                    "1": "bad-boy-good-girl",
                                    "2": "3785"
                                },
                                {
                                    "0": "2",
                                    "1": "manga-magical-girl",
                                    "2": "19121"
                                },
                                {
                                    "0": "2",
                                    "1": "girly-fiction",
                                    "2": "13243"
                                },
                                {
                                    "0": "2",
                                    "1": "female-biographies",
                                    "2": "11645"
                                },
                                {
                                    "0": "2",
                                    "1": "gilmore-girls-s5",
                                    "2": "13215"
                                },
                                {
                                    "0": "2",
                                    "1": "pioneer-woman",
                                    "2": "23671"
                                },
                                {
                                    "0": "2",
                                    "1": "christian-woman",
                                    "2": "7194"
                                },
                                {
                                    "0": "2",
                                    "1": "woman-s-fiction",
                                    "2": "32680"
                                },
                                {
                                    "0": "2",
                                    "1": "books-every-woman-should-read",
                                    "2": "5132"
                                },
                                {
                                    "0": "1",
                                    "1": "bad-ass-girls",
                                    "2": "3781"
                                },
                                {
                                    "0": "1",
                                    "1": "girly-girl",
                                    "2": "13244"
                                },
                                {
                                    "0": "1",
                                    "1": "female-genre-authors",
                                    "2": "11651"
                                },
                                {
                                    "0": "1",
                                    "1": "bad-girls-dont-die",
                                    "2": "3792"
                                },
                                {
                                    "0": "1",
                                    "1": "to-read-about-a-girl",
                                    "2": "30589"
                                },
                                {
                                    "0": "1",
                                    "1": "female-fiction",
                                    "2": "11649"
                                },
                                {
                                    "0": "1",
                                    "1": "important-female-authors",
                                    "2": "15331"
                                },
                                {
                                    "0": "1",
                                    "1": "female-main-character",
                                    "2": "11653"
                                },
                                {
                                    "0": "1",
                                    "1": "gilmore-girls-book-challenge",
                                    "2": "13208"
                                },
                                {
                                    "0": "1",
                                    "1": "girls-in-love",
                                    "2": "13238"
                                },
                                {
                                    "0": "1",
                                    "1": "american-girls-collection",
                                    "2": "2300"
                                },
                                {
                                    "0": "1",
                                    "1": "tbr-ax-female",
                                    "2": "29324"
                                },
                                {
                                    "0": "1",
                                    "1": "girl-books",
                                    "2": "13223"
                                },
                                {
                                    "0": "1",
                                    "1": "american-girl",
                                    "2": "2297"
                                },
                                {
                                    "0": "1",
                                    "1": "strong-female-character",
                                    "2": "28831"
                                },
                                {
                                    "0": "1",
                                    "1": "female-serial-killer",
                                    "2": "11659"
                                },
                                {
                                    "0": "1",
                                    "1": "my-inner-teenage-girl",
                                    "2": "20841"
                                },
                                {
                                    "0": "1",
                                    "1": "ghostgirl",
                                    "2": "13148"
                                },
                                {
                                    "0": "1",
                                    "1": "it-girl",
                                    "2": "15892"
                                },
                                {
                                    "0": "1",
                                    "1": "older-woman",
                                    "2": "22270"
                                },
                                {
                                    "0": "1",
                                    "1": "girl-disguised-as-boy",
                                    "2": "13225"
                                },
                                {
                                    "0": "1",
                                    "1": "there-s-a-boy-in-the-girls-bathroom",
                                    "2": "30268"
                                },
                                {
                                    "0": "1",
                                    "1": "strong-female-character-s",
                                    "2": "28832"
                                },
                                {
                                    "0": "1",
                                    "1": "female-writer",
                                    "2": "11661"
                                },
                                {
                                    "0": "1",
                                    "1": "womans-literature",
                                    "2": "32684"
                                },
                                {
                                    "0": "1",
                                    "1": "kick-butt-girls",
                                    "2": "17082"
                                },
                                {
                                    "0": "1",
                                    "1": "girly-reads",
                                    "2": "13245"
                                },
                                {
                                    "0": "1",
                                    "1": "haveyouseenthisgirl",
                                    "2": "14105"
                                },
                                {
                                    "0": "1",
                                    "1": "21-books-every-woman-should-read",
                                    "2": "937"
                                },
                                {
                                    "0": "1",
                                    "1": "woman-author",
                                    "2": "32679"
                                },
                                {
                                    "0": "1",
                                    "1": "gone-girl",
                                    "2": "13353"
                                },
                                {
                                    "0": "1",
                                    "1": "girlie-reads",
                                    "2": "13234"
                                },
                                {
                                    "0": "1",
                                    "1": "americangirl",
                                    "2": "2336"
                                },
                                {
                                    "0": "1",
                                    "1": "best-adult-female-friendship-books",
                                    "2": "4309"
                                },
                                {
                                    "0": "1",
                                    "1": "boys-vs-girls",
                                    "2": "5586"
                                },
                                {
                                    "0": "1",
                                    "1": "a-girl-detective",
                                    "2": "1326"
                                },
                                {
                                    "0": "1",
                                    "1": "memorable-woman-characters",
                                    "2": "19757"
                                },
                                {
                                    "0": "1",
                                    "1": "girl-power-",
                                    "2": "13228"
                                },
                                {
                                    "0": "1",
                                    "1": "mocha-girls-16",
                                    "2": "20268"
                                },
                                {
                                    "0": "1",
                                    "1": "internet-girls",
                                    "2": "15710"
                                },
                                {
                                    "0": "1",
                                    "1": "ghost-girl",
                                    "2": "13143"
                                },
                                {
                                    "0": "1",
                                    "1": "bad-girls-don-t-die",
                                    "2": "3791"
                                },
                                {
                                    "0": "1",
                                    "1": "kick-ass-female",
                                    "2": "17079"
                                },
                                {
                                    "0": "1",
                                    "1": "strong-female-supporting-characters",
                                    "2": "28836"
                                },
                                {
                                    "0": "1",
                                    "1": "girl-online",
                                    "2": "13226"
                                },
                                {
                                    "0": "1",
                                    "1": "lilac-girls",
                                    "2": "18201"
                                },
                                {
                                    "0": "1",
                                    "1": "the-girl-in-the-ice",
                                    "2": "29805"
                                },
                                {
                                    "0": "1",
                                    "1": "girl-detective",
                                    "2": "13224"
                                },
                                {
                                    "0": "1",
                                    "1": "girly-stuff",
                                    "2": "13246"
                                },
                                {
                                    "0": "1",
                                    "1": "every-woman-should-read",
                                    "2": "10986"
                                },
                                {
                                    "0": "1",
                                    "1": "education-for-girls",
                                    "2": "10306"
                                },
                                {
                                    "0": "1",
                                    "1": "woman-trans-agender-authors",
                                    "2": "32682"
                                },
                                {
                                    "0": "1",
                                    "1": "white-girl-problems",
                                    "2": "32422"
                                },
                                {
                                    "0": "1",
                                    "1": "female-povs",
                                    "2": "11657"
                                },
                                {
                                    "0": "1",
                                    "1": "kiss-the-girls",
                                    "2": "17321"
                                },
                                {
                                    "0": "1",
                                    "1": "female-spy",
                                    "2": "11660"
                                },
                                {
                                    "0": "1",
                                    "1": "gilmore-girl-challenge",
                                    "2": "13206"
                                },
                                {
                                    "0": "1",
                                    "1": "it-girl-series",
                                    "2": "15893"
                                },
                                {
                                    "0": "1",
                                    "1": "girly-book-club",
                                    "2": "13241"
                                },
                                {
                                    "0": "1",
                                    "1": "picture-books-for-girls",
                                    "2": "23609"
                                },
                                {
                                    "0": "1",
                                    "1": "bad-girls-book-club",
                                    "2": "3790"
                                },
                                {
                                    "0": "1",
                                    "1": "our-girls-book-club",
                                    "2": "22582"
                                },
                                {
                                    "0": "1",
                                    "1": "gossipgirl",
                                    "2": "13440"
                                },
                                {
                                    "0": "1",
                                    "1": "adolescent-girls",
                                    "2": "1622"
                                },
                                {
                                    "0": "1",
                                    "1": "a-woman-after-god-s-own-heart",
                                    "2": "1386"
                                },
                                {
                                    "0": "1",
                                    "1": "female-persuasion",
                                    "2": "11654"
                                },
                                {
                                    "0": "1",
                                    "1": "sequel-to-shanghai-girls",
                                    "2": "27169"
                                },
                                {
                                    "0": "1",
                                    "1": "female-pi",
                                    "2": "11655"
                                },
                                {
                                    "0": "1",
                                    "1": "balletgirl",
                                    "2": "3848"
                                },
                                {
                                    "0": "1",
                                    "1": "a-woman-after-gods-own-heart",
                                    "2": "1387"
                                },
                                {
                                    "0": "1",
                                    "1": "batwoman",
                                    "2": "4006"
                                },
                                {
                                    "0": "1",
                                    "1": "black-ops-woman-team-cia-sean-case",
                                    "2": "4729"
                                },
                                {
                                    "0": "1",
                                    "1": "girl-stolen",
                                    "2": "13229"
                                },
                                {
                                    "0": "1",
                                    "1": "half-girlfriend",
                                    "2": "13863"
                                },
                                {
                                    "0": "1",
                                    "1": "all-american-girl-series",
                                    "2": "2070"
                                },
                                {
                                    "0": "1",
                                    "1": "protagonist-female",
                                    "2": "24455"
                                },
                                {
                                    "0": "1",
                                    "1": "american-girls",
                                    "2": "2299"
                                },
                                {
                                    "0": "1",
                                    "1": "theres-a-boy-in-the-girls-bathroom",
                                    "2": "30269"
                                },
                                {
                                    "0": "1",
                                    "1": "the-it-girl",
                                    "2": "29876"
                                },
                                {
                                    "0": "1",
                                    "1": "the-boston-girl",
                                    "2": "29674"
                                },
                                {
                                    "0": "1",
                                    "1": "half-girl-friend",
                                    "2": "13862"
                                },
                                {
                                    "0": "1",
                                    "1": "girlie-books",
                                    "2": "13233"
                                },
                                {
                                    "0": "1",
                                    "1": "education-for-girls-in-afghanistan",
                                    "2": "10307"
                                },
                                {
                                    "0": "1",
                                    "1": "policewoman-potential-victim",
                                    "2": "23891"
                                },
                                {
                                    "0": "1",
                                    "1": "roller-girl",
                                    "2": "26114"
                                },
                                {
                                    "0": "1",
                                    "1": "girls-disguised-as-boys",
                                    "2": "13237"
                                },
                                {
                                    "0": "1",
                                    "1": "female-doctor",
                                    "2": "11648"
                                },
                                {
                                    "0": "1",
                                    "1": "strong-female-protagonist",
                                    "2": "28835"
                                },
                                {
                                    "0": "1",
                                    "1": "american-girl-books",
                                    "2": "2298"
                                },
                                {
                                    "0": "1",
                                    "1": "afghan-female-entrepreneur-under-ta",
                                    "2": "1741"
                                }
                            ]
                        },
                        "text/html": [
                            "<table>",
                            "<tr><th>total</th><th>tag_name</th><th>tag_id</th></tr>",
                            "<tr><td>997</td><td>female-author</td><td>11643</td></tr>",
                            "<tr><td>721</td><td>female-authors</td><td>11644</td></tr>",
                            "<tr><td>178</td><td>gilmore-girls</td><td>13207</td></tr>",
                            "<tr><td>171</td><td>female-protagonist</td><td>11658</td></tr>",
                            "<tr><td>143</td><td>girly</td><td>13240</td></tr>",
                            "<tr><td>116</td><td>gilmore-girls-reading-list</td><td>13214</td></tr>",
                            "<tr><td>102</td><td>girl-power</td><td>13227</td></tr>",
                            "<tr><td>79</td><td>gilmore-girls-reading-challenge</td><td>13213</td></tr>",
                            "<tr><td>65</td><td>girly-books</td><td>13242</td></tr>",
                            "<tr><td>62</td><td>girls</td><td>13235</td></tr>",
                            "<tr><td>35</td><td>gilmore-girls-challenge</td><td>13211</td></tr>",
                            "<tr><td>35</td><td>gilmore-girls-book-list</td><td>13209</td></tr>",
                            "<tr><td>32</td><td>female-detective</td><td>11646</td></tr>",
                            "<tr><td>30</td><td>gilmore-girls-list</td><td>13212</td></tr>",
                            "<tr><td>20</td><td>gilmore-girls-books</td><td>13210</td></tr>",
                            "<tr><td>18</td><td>female-writers</td><td>11662</td></tr>",
                            "<tr><td>17</td><td>female-pov</td><td>11656</td></tr>",
                            "<tr><td>17</td><td>female</td><td>11642</td></tr>",
                            "<tr><td>14</td><td>female-lead</td><td>11652</td></tr>",
                            "<tr><td>14</td><td>woman-s-murder-club</td><td>32681</td></tr>",
                            "<tr><td>12</td><td>author-female</td><td>3514</td></tr>",
                            "<tr><td>10</td><td>womanhood</td><td>32683</td></tr>",
                            "<tr><td>10</td><td>strong-female-lead</td><td>28834</td></tr>",
                            "<tr><td>9</td><td>female-detectives</td><td>11647</td></tr>",
                            "<tr><td>8</td><td>magical-girl</td><td>18916</td></tr>",
                            "<tr><td>8</td><td>man-woman</td><td>19038</td></tr>",
                            "<tr><td>8</td><td>mean-girls</td><td>19610</td></tr>",
                            "<tr><td>8</td><td>womans-murder-club</td><td>32685</td></tr>",
                            "<tr><td>6</td><td>gallagher-girls</td><td>12791</td></tr>",
                            "<tr><td>6</td><td>gossip-girl</td><td>13438</td></tr>",
                            "<tr><td>6</td><td>girlie</td><td>13232</td></tr>",
                            "<tr><td>6</td><td>biblical-womanhood</td><td>4455</td></tr>",
                            "<tr><td>6</td><td>books-from-gilmore-girls</td><td>5160</td></tr>",
                            "<tr><td>5</td><td>gallagher-girls-series</td><td>12792</td></tr>",
                            "<tr><td>5</td><td>older-man-younger-woman</td><td>22269</td></tr>",
                            "<tr><td>5</td><td>gossip-girl-series</td><td>13439</td></tr>",
                            "<tr><td>4</td><td>female-friendship</td><td>11650</td></tr>",
                            "<tr><td>4</td><td>strong-female</td><td>28830</td></tr>",
                            "<tr><td>4</td><td>wonder-woman</td><td>32740</td></tr>",
                            "<tr><td>4</td><td>older-woman-younger-man</td><td>22271</td></tr>",
                            "<tr><td>3</td><td>for-the-girls</td><td>12321</td></tr>",
                            "<tr><td>3</td><td>magical-girls</td><td>18917</td></tr>",
                            "<tr><td>3</td><td>strong-female-characters</td><td>28833</td></tr>",
                            "<tr><td>3</td><td>series-gossip-girl</td><td>27244</td></tr>",
                            "<tr><td>2</td><td>girlhood</td><td>13231</td></tr>",
                            "<tr><td>2</td><td>strong-girls</td><td>28837</td></tr>",
                            "<tr><td>2</td><td>all-american-girl</td><td>2069</td></tr>",
                            "<tr><td>2</td><td>girlboss</td><td>13230</td></tr>",
                            "<tr><td>2</td><td>girls-who-gab</td><td>13239</td></tr>",
                            "<tr><td>2</td><td>stargirl</td><td>28572</td></tr>",
                            "<tr><td>2</td><td>girls-books</td><td>13236</td></tr>",
                            "<tr><td>2</td><td>bad-boy-good-girl</td><td>3785</td></tr>",
                            "<tr><td>2</td><td>manga-magical-girl</td><td>19121</td></tr>",
                            "<tr><td>2</td><td>girly-fiction</td><td>13243</td></tr>",
                            "<tr><td>2</td><td>female-biographies</td><td>11645</td></tr>",
                            "<tr><td>2</td><td>gilmore-girls-s5</td><td>13215</td></tr>",
                            "<tr><td>2</td><td>pioneer-woman</td><td>23671</td></tr>",
                            "<tr><td>2</td><td>christian-woman</td><td>7194</td></tr>",
                            "<tr><td>2</td><td>woman-s-fiction</td><td>32680</td></tr>",
                            "<tr><td>2</td><td>books-every-woman-should-read</td><td>5132</td></tr>",
                            "<tr><td>1</td><td>bad-ass-girls</td><td>3781</td></tr>",
                            "<tr><td>1</td><td>girly-girl</td><td>13244</td></tr>",
                            "<tr><td>1</td><td>female-genre-authors</td><td>11651</td></tr>",
                            "<tr><td>1</td><td>bad-girls-dont-die</td><td>3792</td></tr>",
                            "<tr><td>1</td><td>to-read-about-a-girl</td><td>30589</td></tr>",
                            "<tr><td>1</td><td>female-fiction</td><td>11649</td></tr>",
                            "<tr><td>1</td><td>important-female-authors</td><td>15331</td></tr>",
                            "<tr><td>1</td><td>female-main-character</td><td>11653</td></tr>",
                            "<tr><td>1</td><td>gilmore-girls-book-challenge</td><td>13208</td></tr>",
                            "<tr><td>1</td><td>girls-in-love</td><td>13238</td></tr>",
                            "<tr><td>1</td><td>american-girls-collection</td><td>2300</td></tr>",
                            "<tr><td>1</td><td>tbr-ax-female</td><td>29324</td></tr>",
                            "<tr><td>1</td><td>girl-books</td><td>13223</td></tr>",
                            "<tr><td>1</td><td>american-girl</td><td>2297</td></tr>",
                            "<tr><td>1</td><td>strong-female-character</td><td>28831</td></tr>",
                            "<tr><td>1</td><td>female-serial-killer</td><td>11659</td></tr>",
                            "<tr><td>1</td><td>my-inner-teenage-girl</td><td>20841</td></tr>",
                            "<tr><td>1</td><td>ghostgirl</td><td>13148</td></tr>",
                            "<tr><td>1</td><td>it-girl</td><td>15892</td></tr>",
                            "<tr><td>1</td><td>older-woman</td><td>22270</td></tr>",
                            "<tr><td>1</td><td>girl-disguised-as-boy</td><td>13225</td></tr>",
                            "<tr><td>1</td><td>there-s-a-boy-in-the-girls-bathroom</td><td>30268</td></tr>",
                            "<tr><td>1</td><td>strong-female-character-s</td><td>28832</td></tr>",
                            "<tr><td>1</td><td>female-writer</td><td>11661</td></tr>",
                            "<tr><td>1</td><td>womans-literature</td><td>32684</td></tr>",
                            "<tr><td>1</td><td>kick-butt-girls</td><td>17082</td></tr>",
                            "<tr><td>1</td><td>girly-reads</td><td>13245</td></tr>",
                            "<tr><td>1</td><td>haveyouseenthisgirl</td><td>14105</td></tr>",
                            "<tr><td>1</td><td>21-books-every-woman-should-read</td><td>937</td></tr>",
                            "<tr><td>1</td><td>woman-author</td><td>32679</td></tr>",
                            "<tr><td>1</td><td>gone-girl</td><td>13353</td></tr>",
                            "<tr><td>1</td><td>girlie-reads</td><td>13234</td></tr>",
                            "<tr><td>1</td><td>americangirl</td><td>2336</td></tr>",
                            "<tr><td>1</td><td>best-adult-female-friendship-books</td><td>4309</td></tr>",
                            "<tr><td>1</td><td>boys-vs-girls</td><td>5586</td></tr>",
                            "<tr><td>1</td><td>a-girl-detective</td><td>1326</td></tr>",
                            "<tr><td>1</td><td>memorable-woman-characters</td><td>19757</td></tr>",
                            "<tr><td>1</td><td>girl-power-</td><td>13228</td></tr>",
                            "<tr><td>1</td><td>mocha-girls-16</td><td>20268</td></tr>",
                            "<tr><td>1</td><td>internet-girls</td><td>15710</td></tr>",
                            "<tr><td>1</td><td>ghost-girl</td><td>13143</td></tr>",
                            "<tr><td>1</td><td>bad-girls-don-t-die</td><td>3791</td></tr>",
                            "<tr><td>1</td><td>kick-ass-female</td><td>17079</td></tr>",
                            "<tr><td>1</td><td>strong-female-supporting-characters</td><td>28836</td></tr>",
                            "<tr><td>1</td><td>girl-online</td><td>13226</td></tr>",
                            "<tr><td>1</td><td>lilac-girls</td><td>18201</td></tr>",
                            "<tr><td>1</td><td>the-girl-in-the-ice</td><td>29805</td></tr>",
                            "<tr><td>1</td><td>girl-detective</td><td>13224</td></tr>",
                            "<tr><td>1</td><td>girly-stuff</td><td>13246</td></tr>",
                            "<tr><td>1</td><td>every-woman-should-read</td><td>10986</td></tr>",
                            "<tr><td>1</td><td>education-for-girls</td><td>10306</td></tr>",
                            "<tr><td>1</td><td>woman-trans-agender-authors</td><td>32682</td></tr>",
                            "<tr><td>1</td><td>white-girl-problems</td><td>32422</td></tr>",
                            "<tr><td>1</td><td>female-povs</td><td>11657</td></tr>",
                            "<tr><td>1</td><td>kiss-the-girls</td><td>17321</td></tr>",
                            "<tr><td>1</td><td>female-spy</td><td>11660</td></tr>",
                            "<tr><td>1</td><td>gilmore-girl-challenge</td><td>13206</td></tr>",
                            "<tr><td>1</td><td>it-girl-series</td><td>15893</td></tr>",
                            "<tr><td>1</td><td>girly-book-club</td><td>13241</td></tr>",
                            "<tr><td>1</td><td>picture-books-for-girls</td><td>23609</td></tr>",
                            "<tr><td>1</td><td>bad-girls-book-club</td><td>3790</td></tr>",
                            "<tr><td>1</td><td>our-girls-book-club</td><td>22582</td></tr>",
                            "<tr><td>1</td><td>gossipgirl</td><td>13440</td></tr>",
                            "<tr><td>1</td><td>adolescent-girls</td><td>1622</td></tr>",
                            "<tr><td>1</td><td>a-woman-after-god-s-own-heart</td><td>1386</td></tr>",
                            "<tr><td>1</td><td>female-persuasion</td><td>11654</td></tr>",
                            "<tr><td>1</td><td>sequel-to-shanghai-girls</td><td>27169</td></tr>",
                            "<tr><td>1</td><td>female-pi</td><td>11655</td></tr>",
                            "<tr><td>1</td><td>balletgirl</td><td>3848</td></tr>",
                            "<tr><td>1</td><td>a-woman-after-gods-own-heart</td><td>1387</td></tr>",
                            "<tr><td>1</td><td>batwoman</td><td>4006</td></tr>",
                            "<tr><td>1</td><td>black-ops-woman-team-cia-sean-case</td><td>4729</td></tr>",
                            "<tr><td>1</td><td>girl-stolen</td><td>13229</td></tr>",
                            "<tr><td>1</td><td>half-girlfriend</td><td>13863</td></tr>",
                            "<tr><td>1</td><td>all-american-girl-series</td><td>2070</td></tr>",
                            "<tr><td>1</td><td>protagonist-female</td><td>24455</td></tr>",
                            "<tr><td>1</td><td>american-girls</td><td>2299</td></tr>",
                            "<tr><td>1</td><td>theres-a-boy-in-the-girls-bathroom</td><td>30269</td></tr>",
                            "<tr><td>1</td><td>the-it-girl</td><td>29876</td></tr>",
                            "<tr><td>1</td><td>the-boston-girl</td><td>29674</td></tr>",
                            "<tr><td>1</td><td>half-girl-friend</td><td>13862</td></tr>",
                            "<tr><td>1</td><td>girlie-books</td><td>13233</td></tr>",
                            "<tr><td>1</td><td>education-for-girls-in-afghanistan</td><td>10307</td></tr>",
                            "<tr><td>1</td><td>policewoman-potential-victim</td><td>23891</td></tr>",
                            "<tr><td>1</td><td>roller-girl</td><td>26114</td></tr>",
                            "<tr><td>1</td><td>girls-disguised-as-boys</td><td>13237</td></tr>",
                            "<tr><td>1</td><td>female-doctor</td><td>11648</td></tr>",
                            "<tr><td>1</td><td>strong-female-protagonist</td><td>28835</td></tr>",
                            "<tr><td>1</td><td>american-girl-books</td><td>2298</td></tr>",
                            "<tr><td>1</td><td>afghan-female-entrepreneur-under-ta</td><td>1741</td></tr>",
                            "</table>"
                        ]
                    }
                }
            ],
            "execution_count": 36
        },
        {
            "cell_type": "markdown",
            "source": [
                "### **Which keyword(s) and tag(s) would you like to explore more?**\n",
                "\n",
                "<span style=\"font-size: 14px;\">17079<span style=\"white-space:pre\"> </span>kick-ass-female</span>  \n",
                "\n",
                "<span style=\"font-size: 14px;\"><br></span>"
            ],
            "metadata": {
                "azdata_cell_guid": "e9acd8b5-a62b-4ac0-bd07-19915b379ba6"
            },
            "attachments": {}
        },
        {
            "cell_type": "markdown",
            "source": [
                "### **Write a query to return authors, titles, ratings and** **selected tag(s)\\_id.**"
            ],
            "metadata": {
                "azdata_cell_guid": "59b84464-c0bc-4dac-9e02-0c803765b063"
            },
            "attachments": {}
        },
        {
            "cell_type": "code",
            "source": [
                "-- Solution\n",
                "SELECT b.authors, b.title, b.average_rating, bt.tag_id\n",
                "FROM BooksDB.dbo.books AS b \n",
                "INNER JOIN BooksDB.dbo.book_tags as bt\n",
                "ON b.book_id = bt.goodreads_book_id\n",
                "WHERE bt.tag_id = 17079 OR bt.tag_id =28835;\n",
                ""
            ],
            "metadata": {
                "azdata_cell_guid": "51ffeaaf-6dde-4906-95f3-eb8757babf27",
                "tags": [],
                "language": "sql"
            },
            "outputs": [
                {
                    "output_type": "display_data",
                    "data": {
                        "text/html": "(2 rows affected)"
                    },
                    "metadata": {}
                },
                {
                    "output_type": "display_data",
                    "data": {
                        "text/html": "Total execution time: 00:00:00.161"
                    },
                    "metadata": {}
                },
                {
                    "output_type": "execute_result",
                    "metadata": {},
                    "execution_count": 37,
                    "data": {
                        "application/vnd.dataresource+json": {
                            "schema": {
                                "fields": [
                                    {
                                        "name": "authors"
                                    },
                                    {
                                        "name": "title"
                                    },
                                    {
                                        "name": "average_rating"
                                    },
                                    {
                                        "name": "tag_id"
                                    }
                                ]
                            },
                            "data": [
                                {
                                    "0": "P.C. Cast, Kristin Cast",
                                    "1": "Marked / Betrayed / Chosen / Untamed / Hunted (House of Night #1-5)",
                                    "2": "4.43",
                                    "3": "17079"
                                },
                                {
                                    "0": "Greg Rucka, J.H. Williams III, Rachel Maddow",
                                    "1": "Batwoman: Elegy",
                                    "2": "4.16",
                                    "3": "28835"
                                }
                            ]
                        },
                        "text/html": [
                            "<table>",
                            "<tr><th>authors</th><th>title</th><th>average_rating</th><th>tag_id</th></tr>",
                            "<tr><td>P.C. Cast, Kristin Cast</td><td>Marked / Betrayed / Chosen / Untamed / Hunted (House of Night #1-5)</td><td>4.43</td><td>17079</td></tr>",
                            "<tr><td>Greg Rucka, J.H. Williams III, Rachel Maddow</td><td>Batwoman: Elegy</td><td>4.16</td><td>28835</td></tr>",
                            "</table>"
                        ]
                    }
                }
            ],
            "execution_count": 37
        },
        {
            "cell_type": "markdown",
            "source": [
                "### **Record your thoughts about why you wrote the query the way you did.**"
            ],
            "metadata": {
                "azdata_cell_guid": "1e19a72c-1bca-446b-a0c7-a8efbc35dcf1"
            },
            "attachments": {}
        },
        {
            "cell_type": "markdown",
            "source": [
                "# Part 2: Choose Another Month\n",
                "\n",
                "Choose another month and plan at least 2 events / promotions and answer the following questions.\n",
                "\n",
                "Which month did you choose?  \n",
                "\n",
                "What 2 events / promotions are you highlighting?\n",
                "\n",
                "> 1. Juneteenth\n",
                "> 2. GALENTINES DAY!"
            ],
            "metadata": {
                "azdata_cell_guid": "3eaf376d-9de3-4553-a9d0-9caf74ee3d6a"
            },
            "attachments": {}
        },
        {
            "cell_type": "markdown",
            "source": [
                "# Part 3: Summarize your Work\n",
                "\n",
                "For each event write at least one query that joins any two tables in the BooksDB to support your choice and record you thoughts as to why you used the paticlular query. At least one of your queries needs to include a HAVING clause."
            ],
            "metadata": {
                "azdata_cell_guid": "1ba1363a-4f02-4962-a95a-93b80c5926b1"
            },
            "attachments": {}
        },
        {
            "cell_type": "code",
            "source": [
                "-- Event 1 Query\n",
                "SELECT COUNT(bt.tag_id) AS total, t.tag_name, t.tag_id\n",
                "FROM BooksDB.dbo.book_tags AS bt \n",
                "LEFT JOIN BooksDB.dbo.tags AS t\n",
                "ON bt.tag_id = t.tag_id\n",
                "WHERE t.tag_name LIKE '%black-history%'\n",
                "OR t.tag_name LIKE '%black-authors%'\n",
                "OR t.tag_name LIKE '%african-american%'\n",
                "GROUP BY t.tag_name, t.tag_id\n",
                "HAVING COUNT(*) > 10\n",
                "ORDER BY total DESC"
            ],
            "metadata": {
                "azdata_cell_guid": "f50d32ce-4cb2-4af2-acb1-607777a76cf8",
                "language": "sql"
            },
            "outputs": [
                {
                    "output_type": "display_data",
                    "data": {
                        "text/html": "(9 rows affected)"
                    },
                    "metadata": {}
                },
                {
                    "output_type": "display_data",
                    "data": {
                        "text/html": "Total execution time: 00:00:00.295"
                    },
                    "metadata": {}
                },
                {
                    "output_type": "execute_result",
                    "metadata": {},
                    "execution_count": 43,
                    "data": {
                        "application/vnd.dataresource+json": {
                            "schema": {
                                "fields": [
                                    {
                                        "name": "total"
                                    },
                                    {
                                        "name": "tag_name"
                                    },
                                    {
                                        "name": "tag_id"
                                    }
                                ]
                            },
                            "data": [
                                {
                                    "0": "162",
                                    "1": "african-american",
                                    "2": "1753"
                                },
                                {
                                    "0": "74",
                                    "1": "african-american-lit",
                                    "2": "1761"
                                },
                                {
                                    "0": "64",
                                    "1": "african-american-literature",
                                    "2": "1762"
                                },
                                {
                                    "0": "38",
                                    "1": "black-authors",
                                    "2": "4685"
                                },
                                {
                                    "0": "30",
                                    "1": "african-american-fiction",
                                    "2": "1758"
                                },
                                {
                                    "0": "27",
                                    "1": "black-history",
                                    "2": "4708"
                                },
                                {
                                    "0": "18",
                                    "1": "african-american-history",
                                    "2": "1759"
                                },
                                {
                                    "0": "17",
                                    "1": "african-american-authors",
                                    "2": "1754"
                                },
                                {
                                    "0": "15",
                                    "1": "african-american-studies",
                                    "2": "1765"
                                }
                            ]
                        },
                        "text/html": [
                            "<table>",
                            "<tr><th>total</th><th>tag_name</th><th>tag_id</th></tr>",
                            "<tr><td>162</td><td>african-american</td><td>1753</td></tr>",
                            "<tr><td>74</td><td>african-american-lit</td><td>1761</td></tr>",
                            "<tr><td>64</td><td>african-american-literature</td><td>1762</td></tr>",
                            "<tr><td>38</td><td>black-authors</td><td>4685</td></tr>",
                            "<tr><td>30</td><td>african-american-fiction</td><td>1758</td></tr>",
                            "<tr><td>27</td><td>black-history</td><td>4708</td></tr>",
                            "<tr><td>18</td><td>african-american-history</td><td>1759</td></tr>",
                            "<tr><td>17</td><td>african-american-authors</td><td>1754</td></tr>",
                            "<tr><td>15</td><td>african-american-studies</td><td>1765</td></tr>",
                            "</table>"
                        ]
                    }
                }
            ],
            "execution_count": 43
        },
        {
            "cell_type": "code",
            "source": [
                ""
            ],
            "metadata": {
                "azdata_cell_guid": "5606f7f2-c46b-42d3-ac64-7ae21c3394f8",
                "language": "sql"
            },
            "outputs": [],
            "execution_count": null
        },
        {
            "cell_type": "markdown",
            "source": [
                "### **Summary of event 1:**\n",
                "\n",
                "Double Click to edit."
            ],
            "metadata": {
                "azdata_cell_guid": "3bc72d4c-077b-42d3-9528-9aff8e7b6cf3"
            },
            "attachments": {}
        },
        {
            "cell_type": "code",
            "source": [
                "-- Event 2 Query\n",
                "SELECT COUNT(bt.tag_id) AS total, t.tag_name, t.tag_id\n",
                "FROM BooksDB.dbo.book_tags AS bt \n",
                "LEFT JOIN BooksDB.dbo.tags AS t\n",
                "ON bt.tag_id = t.tag_id\n",
                "WHERE t.tag_name LIKE '%galentine%'\n",
                "OR t.tag_name LIKE '%feminism%'\n",
                "OR t.tag_name LIKE '%friendship%'\n",
                "OR t.tag_name LIKE '%feminist%'\n",
                "GROUP BY t.tag_name, t.tag_id\n",
                "HAVING COUNT(*) > 10\n",
                "ORDER BY total DESC"
            ],
            "metadata": {
                "azdata_cell_guid": "dca0a98f-065f-4b0e-9d93-fcb01cad668c",
                "language": "sql"
            },
            "outputs": [
                {
                    "output_type": "display_data",
                    "data": {
                        "text/html": "(8 rows affected)"
                    },
                    "metadata": {}
                },
                {
                    "output_type": "display_data",
                    "data": {
                        "text/html": "Total execution time: 00:00:00.305"
                    },
                    "metadata": {}
                },
                {
                    "output_type": "execute_result",
                    "metadata": {},
                    "execution_count": 47,
                    "data": {
                        "application/vnd.dataresource+json": {
                            "schema": {
                                "fields": [
                                    {
                                        "name": "total"
                                    },
                                    {
                                        "name": "tag_name"
                                    },
                                    {
                                        "name": "tag_id"
                                    }
                                ]
                            },
                            "data": [
                                {
                                    "0": "1238",
                                    "1": "friendship",
                                    "2": "12600"
                                },
                                {
                                    "0": "373",
                                    "1": "feminism",
                                    "2": "11665"
                                },
                                {
                                    "0": "190",
                                    "1": "feminist",
                                    "2": "11673"
                                },
                                {
                                    "0": "19",
                                    "1": "feminist-lit",
                                    "2": "11677"
                                },
                                {
                                    "0": "15",
                                    "1": "feminist-book-club",
                                    "2": "11674"
                                },
                                {
                                    "0": "13",
                                    "1": "feminist-books",
                                    "2": "11675"
                                },
                                {
                                    "0": "12",
                                    "1": "feminist-literature",
                                    "2": "11678"
                                },
                                {
                                    "0": "11",
                                    "1": "feminismo",
                                    "2": "11671"
                                }
                            ]
                        },
                        "text/html": [
                            "<table>",
                            "<tr><th>total</th><th>tag_name</th><th>tag_id</th></tr>",
                            "<tr><td>1238</td><td>friendship</td><td>12600</td></tr>",
                            "<tr><td>373</td><td>feminism</td><td>11665</td></tr>",
                            "<tr><td>190</td><td>feminist</td><td>11673</td></tr>",
                            "<tr><td>19</td><td>feminist-lit</td><td>11677</td></tr>",
                            "<tr><td>15</td><td>feminist-book-club</td><td>11674</td></tr>",
                            "<tr><td>13</td><td>feminist-books</td><td>11675</td></tr>",
                            "<tr><td>12</td><td>feminist-literature</td><td>11678</td></tr>",
                            "<tr><td>11</td><td>feminismo</td><td>11671</td></tr>",
                            "</table>"
                        ]
                    }
                }
            ],
            "execution_count": 47
        },
        {
            "cell_type": "code",
            "source": [
                ""
            ],
            "metadata": {
                "azdata_cell_guid": "3aaae3a8-eff7-4b37-8970-2d913a67239b",
                "language": "sql"
            },
            "outputs": [],
            "execution_count": null
        },
        {
            "cell_type": "markdown",
            "source": [
                "### **Summary of event 2:**\n",
                "\n",
                "Double Click to edit."
            ],
            "metadata": {
                "azdata_cell_guid": "99d518dc-cd8b-42d6-9a9d-708771c9aa99"
            },
            "attachments": {}
        }
    ]
}